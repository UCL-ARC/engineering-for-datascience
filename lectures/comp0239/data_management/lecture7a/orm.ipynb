{
 "cells": [
  {
   "cell_type": "markdown",
   "metadata": {},
   "source": [
    "## Data and Objects - the Object-Relational-Mapping"
   ]
  },
  {
   "cell_type": "markdown",
   "metadata": {},
   "source": [
    "We notice that when we find a correct relational model for our data, many of the rows are suggestive of exactly the data\n",
    "we would expect to supply to an object constructor - data about an object. References to keys of other tables in rows suggest composition\n",
    "relations while many-to-many join tables often represent aggregation relationships, and data about the relationship."
   ]
  },
  {
   "cell_type": "markdown",
   "metadata": {},
   "source": [
    "As a result of this, powerful tools exist to **automatically** create object structures from database schema, including saving and loading."
   ]
  },
  {
   "cell_type": "code",
   "execution_count": null,
   "metadata": {},
   "outputs": [],
   "source": [
    "import os\n",
    "try:\n",
    "    os.remove('molecules.db')\n",
    "    print(\"Remove database to teach again from scratch\")\n",
    "except FileNotFoundError:\n",
    "    print(\"No DB since this notebook was last run\")"
   ]
  },
  {
   "cell_type": "code",
   "execution_count": null,
   "metadata": {},
   "outputs": [],
   "source": [
    "import sqlalchemy\n",
    "engine = sqlalchemy.create_engine('sqlite:///molecules.db')"
   ]
  },
  {
   "cell_type": "code",
   "execution_count": null,
   "metadata": {},
   "outputs": [],
   "source": [
    "from sqlalchemy import Column, Integer, String, Float, ForeignKey\n",
    "from sqlalchemy.orm import relationship, declarative_base\n",
    "Base = declarative_base()\n",
    "\n",
    "class Element(Base):\n",
    "    __tablename__ = \"atoms\"\n",
    "    symbol = Column(String, primary_key=True)\n",
    "    number = Column(Integer)\n",
    "    molecules = relationship(\"AtomsPerMolecule\", backref=\"atom\")"
   ]
  },
  {
   "cell_type": "code",
   "execution_count": null,
   "metadata": {},
   "outputs": [],
   "source": [
    "class Molecule(Base):\n",
    "    __tablename__ = \"molecules\"\n",
    "    name = Column(String, primary_key=True)\n",
    "    mass = Column(Float)\n",
    "    atoms = relationship(\"AtomsPerMolecule\", backref=\"molecule\")"
   ]
  },
  {
   "cell_type": "code",
   "execution_count": null,
   "metadata": {},
   "outputs": [],
   "source": [
    "class AtomsPerMolecule(Base):\n",
    "    __tablename__ = 'atoms_per_molecule'\n",
    "    id = Column(Integer, primary_key=True)\n",
    "    atom_id = Column(None, ForeignKey('atoms.symbol'))\n",
    "    molecule_id = Column(None, ForeignKey('molecules.name'))\n",
    "    number = Column(Integer)"
   ]
  },
  {
   "cell_type": "markdown",
   "metadata": {},
   "source": [
    "If we now create our tables, the system will automatically create a DB:"
   ]
  },
  {
   "cell_type": "code",
   "execution_count": null,
   "metadata": {},
   "outputs": [],
   "source": [
    "engine.echo=True"
   ]
  },
  {
   "cell_type": "code",
   "execution_count": null,
   "metadata": {},
   "outputs": [],
   "source": [
    "Base.metadata.create_all(engine)"
   ]
  },
  {
   "cell_type": "code",
   "execution_count": null,
   "metadata": {},
   "outputs": [],
   "source": [
    "engine.echo=False"
   ]
  },
  {
   "cell_type": "markdown",
   "metadata": {},
   "source": [
    "And we can create objects with a simple interface that looks just like ordinary classes:"
   ]
  },
  {
   "cell_type": "code",
   "execution_count": null,
   "metadata": {},
   "outputs": [],
   "source": [
    "oxygen = Element(symbol='O',number=8)\n",
    "hydrogen = Element(symbol='H', number=1)\n",
    "elements = [oxygen, hydrogen]"
   ]
  },
  {
   "cell_type": "code",
   "execution_count": null,
   "metadata": {},
   "outputs": [],
   "source": [
    "water = Molecule(name='water',mass=18.01)\n",
    "oxygen_m = Molecule(name='oxygen', mass=16.00)\n",
    "hydrogen_m = Molecule(name='hydrogen', mass=2.02)\n",
    "molecules = [water, oxygen_m, hydrogen_m]"
   ]
  },
  {
   "cell_type": "code",
   "execution_count": null,
   "metadata": {},
   "outputs": [],
   "source": [
    "amounts = [\n",
    "    AtomsPerMolecule(atom=oxygen, molecule=water, number =1),\n",
    "    AtomsPerMolecule(atom=hydrogen, molecule=water, number =2),\n",
    "    AtomsPerMolecule(atom=oxygen, molecule=oxygen_m, number =2),\n",
    "    AtomsPerMolecule(atom=hydrogen, molecule=hydrogen_m, number =2)\n",
    "]"
   ]
  },
  {
   "cell_type": "code",
   "execution_count": null,
   "metadata": {},
   "outputs": [],
   "source": [
    "from sqlalchemy.orm import sessionmaker\n",
    "Session = sessionmaker(bind=engine)\n",
    "session=Session()"
   ]
  },
  {
   "cell_type": "code",
   "execution_count": null,
   "metadata": {},
   "outputs": [],
   "source": [
    "session.bulk_save_objects(elements+molecules+amounts)"
   ]
  },
  {
   "cell_type": "code",
   "execution_count": null,
   "metadata": {},
   "outputs": [],
   "source": [
    "oxygen.molecules[0].molecule.name"
   ]
  },
  {
   "cell_type": "code",
   "execution_count": null,
   "metadata": {},
   "outputs": [],
   "source": [
    "session.query(Molecule).all()[0].name"
   ]
  },
  {
   "cell_type": "code",
   "execution_count": null,
   "metadata": {},
   "outputs": [],
   "source": [
    "session.commit()"
   ]
  },
  {
   "cell_type": "markdown",
   "metadata": {},
   "source": [
    "This is a very powerful technique - we get our class-type interface in python, with database persistence and searchability for free!"
   ]
  }
 ],
 "metadata": {
  "kernelspec": {
   "display_name": "Python 3 (ipykernel)",
   "language": "python",
   "name": "python3"
  },
  "language_info": {
   "codemirror_mode": {
    "name": "ipython",
    "version": 3
   },
   "file_extension": ".py",
   "mimetype": "text/x-python",
   "name": "python",
   "nbconvert_exporter": "python",
   "pygments_lexer": "ipython3",
   "version": "3.12.5"
  }
 },
 "nbformat": 4,
 "nbformat_minor": 4
}
